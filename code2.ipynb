{
 "cells": [
  {
   "cell_type": "code",
   "execution_count": 38,
   "metadata": {},
   "outputs": [],
   "source": [
    "import numpy as np\n",
    "import pandas as pd\n",
    "import matplotlib.pyplot as plt\n",
    "%matplotlib inline\n",
    "from sklearn.model_selection import train_test_split , StratifiedShuffleSplit , KFold\n",
    "from sklearn.metrics import accuracy_score\n",
    "from sklearn.ensemble import RandomForestClassifier\n",
    "from sklearn.model_selection import cross_val_score\n",
    "np.random.seed(1)"
   ]
  },
  {
   "cell_type": "code",
   "execution_count": 2,
   "metadata": {},
   "outputs": [],
   "source": [
    "exist = pd.read_excel(r\"Hash-Analytic-Python-Analytics-Problem-case-study-1.xlsx\" , sheet_name=\"Existing employees\")\n",
    "left = pd.read_excel(r\"Hash-Analytic-Python-Analytics-Problem-case-study-1.xlsx\" , sheet_name=\"Employees who have left\")"
   ]
  },
  {
   "cell_type": "code",
   "execution_count": 3,
   "metadata": {},
   "outputs": [
    {
     "data": {
      "text/plain": [
       "Emp ID                     int64\n",
       "satisfaction_level       float64\n",
       "last_evaluation          float64\n",
       "number_project             int64\n",
       "average_montly_hours       int64\n",
       "time_spend_company         int64\n",
       "Work_accident              int64\n",
       "promotion_last_5years      int64\n",
       "dept                      object\n",
       "salary                    object\n",
       "dtype: object"
      ]
     },
     "execution_count": 3,
     "metadata": {},
     "output_type": "execute_result"
    }
   ],
   "source": [
    "exist.dtypes"
   ]
  },
  {
   "cell_type": "code",
   "execution_count": 4,
   "metadata": {},
   "outputs": [
    {
     "name": "stdout",
     "output_type": "stream",
     "text": [
      "Features Encoded Successfully\n",
      "Features Encoded Successfully\n"
     ]
    }
   ],
   "source": [
    "def encode(data):\n",
    "    salary_map = {\"low\":1,\n",
    "             \"medium\":2,\n",
    "             \"high\":3}\n",
    "    data[\"salary\"] = data[\"salary\"].map(salary_map)\n",
    "    data[\"dept\"] = pd.factorize(data[\"dept\"])[0]\n",
    "    print(\"Features Encoded Successfully\")\n",
    "encode(exist)\n",
    "encode(left)"
   ]
  },
  {
   "cell_type": "code",
   "execution_count": 5,
   "metadata": {},
   "outputs": [
    {
     "name": "stdout",
     "output_type": "stream",
     "text": [
      "Feature Created\n",
      "Feature Created\n"
     ]
    }
   ],
   "source": [
    "def has_left(data):\n",
    "    if data is exist:\n",
    "        data[\"Has_left\"] = 0\n",
    "    elif data is left:\n",
    "        data[\"Has_left\"] = 1\n",
    "    print(\"Feature Created\")\n",
    "has_left(exist)\n",
    "has_left(left)"
   ]
  },
  {
   "cell_type": "code",
   "execution_count": 15,
   "metadata": {},
   "outputs": [],
   "source": [
    "df = pd.concat([exist,left] , ignore_index=True)\n",
    "df.drop(\"Emp ID\" ,axis=1, inplace=True)\n",
    "y = df[\"Has_left\"]\n",
    "train , test = train_test_split(df,test_size=0.1,shuffle=True,stratify=y , random_state=1)"
   ]
  },
  {
   "cell_type": "code",
   "execution_count": 20,
   "metadata": {},
   "outputs": [
    {
     "data": {
      "text/plain": [
       "0    0.761908\n",
       "1    0.238092\n",
       "Name: Has_left, dtype: float64"
      ]
     },
     "execution_count": 20,
     "metadata": {},
     "output_type": "execute_result"
    }
   ],
   "source": [
    "train.Has_left.value_counts(normalize=True)"
   ]
  },
  {
   "cell_type": "code",
   "execution_count": 22,
   "metadata": {},
   "outputs": [
    {
     "data": {
      "text/plain": [
       "0    0.762\n",
       "1    0.238\n",
       "Name: Has_left, dtype: float64"
      ]
     },
     "execution_count": 22,
     "metadata": {},
     "output_type": "execute_result"
    }
   ],
   "source": [
    "test.Has_left.value_counts(normalize=True)"
   ]
  },
  {
   "cell_type": "code",
   "execution_count": 23,
   "metadata": {},
   "outputs": [],
   "source": [
    "X = train.drop(\"Has_left\" , axis=1).values\n",
    "y = train[\"Has_left\"].values"
   ]
  },
  {
   "cell_type": "code",
   "execution_count": 26,
   "metadata": {},
   "outputs": [],
   "source": [
    "rf = RandomForestClassifier()\n",
    "cv = cross_val_score(rf , X,y,scoring=\"accuracy\",cv=5,n_jobs=-1)"
   ]
  },
  {
   "cell_type": "code",
   "execution_count": 28,
   "metadata": {},
   "outputs": [],
   "source": [
    "tot_score = []\n",
    "sss = StratifiedShuffleSplit(n_splits=10,test_size=0.1,random_state=1)\n",
    "for train_index , test_index in sss.split(X,y):\n",
    "    x_train , x_test = X[train_index] , X[test_index]\n",
    "    y_train , y_test = y[train_index] , y[test_index]\n",
    "    \n",
    "    rf.fit(x_train , y_train)\n",
    "    pred = rf.predict(x_test)\n",
    "    score = accuracy_score(y_test , pred)\n",
    "    tot_score.append(score)"
   ]
  },
  {
   "cell_type": "code",
   "execution_count": 29,
   "metadata": {},
   "outputs": [
    {
     "data": {
      "text/plain": [
       "[0.9933333333333333,\n",
       " 0.9896296296296296,\n",
       " 0.9925925925925926,\n",
       " 0.997037037037037,\n",
       " 0.9940740740740741,\n",
       " 0.9896296296296296,\n",
       " 0.9948148148148148,\n",
       " 0.9911111111111112,\n",
       " 0.9911111111111112,\n",
       " 0.9888888888888889]"
      ]
     },
     "execution_count": 29,
     "metadata": {},
     "output_type": "execute_result"
    }
   ],
   "source": [
    "tot_score"
   ]
  },
  {
   "cell_type": "code",
   "execution_count": 30,
   "metadata": {},
   "outputs": [
    {
     "data": {
      "text/plain": [
       "0.9914810149163614"
      ]
     },
     "execution_count": 30,
     "metadata": {},
     "output_type": "execute_result"
    }
   ],
   "source": [
    "np.mean(cv)"
   ]
  },
  {
   "cell_type": "code",
   "execution_count": 31,
   "metadata": {},
   "outputs": [
    {
     "data": {
      "text/plain": [
       "0.9922222222222222"
      ]
     },
     "execution_count": 31,
     "metadata": {},
     "output_type": "execute_result"
    }
   ],
   "source": [
    "np.mean(tot_score)"
   ]
  },
  {
   "cell_type": "markdown",
   "metadata": {},
   "source": [
    "##### Test on Unseen Data"
   ]
  },
  {
   "cell_type": "code",
   "execution_count": 33,
   "metadata": {},
   "outputs": [],
   "source": [
    "test_pred  = rf.predict(test.drop(\"Has_left\",axis=1))"
   ]
  },
  {
   "cell_type": "code",
   "execution_count": 34,
   "metadata": {},
   "outputs": [
    {
     "data": {
      "text/plain": [
       "0.988"
      ]
     },
     "execution_count": 34,
     "metadata": {},
     "output_type": "execute_result"
    }
   ],
   "source": [
    "accuracy_score(test[\"Has_left\"] , test_pred)"
   ]
  },
  {
   "cell_type": "code",
   "execution_count": 44,
   "metadata": {},
   "outputs": [
    {
     "data": {
      "image/png": "[encoded data removed]",
      "text/plain": [
       "<Figure size 720x504 with 1 Axes>"
      ]
     },
     "metadata": {
      "needs_background": "light"
     },
     "output_type": "display_data"
    }
   ],
   "source": [
    "plt.figure(figsize=(10,7))\n",
    "feat_importance = pd.Series(rf.feature_importances_ , index=train.drop(\"Has_left\" , axis=1).columns)\n",
    "feat_importance.plot(kind=\"barh\")\n",
    "plt.savefig(\"Feature_Imp\",quality=100)\n",
    "plt.title(\"Feature Importance\" , fontsize=15)\n",
    "plt.xlabel(\"Rating of Feature Importance\" , fontsize=15)\n",
    "plt.ylabel(\"Features\" , fontsize=15)\n",
    "plt.show()"
   ]
  },
  {
   "cell_type": "code",
   "execution_count": null,
   "metadata": {},
   "outputs": [],
   "source": []
  }
 ],
 "metadata": {
  "kernelspec": {
   "display_name": "Python 3",
   "language": "python",
   "name": "python3"
  },
  "language_info": {
   "codemirror_mode": {
    "name": "ipython",
    "version": 3
   },
   "file_extension": ".py",
   "mimetype": "text/x-python",
   "name": "python",
   "nbconvert_exporter": "python",
   "pygments_lexer": "ipython3",
   "version": "3.7.4"
  }
 },
 "nbformat": 4,
 "nbformat_minor": 4
}
